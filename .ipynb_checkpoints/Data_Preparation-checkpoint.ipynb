{
 "cells": [
  {
   "cell_type": "code",
   "execution_count": 2,
   "metadata": {},
   "outputs": [],
   "source": [
    "from mido import MidiFile\n",
    "import numpy as np\n",
    "from pathlib import Path\n",
    "import pickle"
   ]
  },
  {
   "cell_type": "markdown",
   "metadata": {},
   "source": [
    "# Reading midi files and storing data"
   ]
  },
  {
   "cell_type": "code",
   "execution_count": 3,
   "metadata": {},
   "outputs": [
    {
     "name": "stdout",
     "output_type": "stream",
     "text": [
      "pop-music-collection/Pop_Music_Midi/Put Your Records On - Chorus.midi\n",
      "pop-music-collection/Pop_Music_Midi/The Great Escape - Verse.midi\n",
      "pop-music-collection/Pop_Music_Midi/Love Me Harder ft The Weeknd - Pre Chorus.midi\n",
      "pop-music-collection/Pop_Music_Midi/I Gotta Feeling - Chorus.midi\n",
      "pop-music-collection/Pop_Music_Midi/I Want It That Way - Chorus.midi\n",
      "pop-music-collection/Pop_Music_Midi/Girl On Fire - Chorus.midi\n",
      "pop-music-collection/Pop_Music_Midi/Piano man - Bridge.midi\n",
      "pop-music-collection/Pop_Music_Midi/Love Story - Chorus.midi\n",
      "pop-music-collection/Pop_Music_Midi/All The Small Things - Verse.midi\n",
      "pop-music-collection/Pop_Music_Midi/Genie in a Bottle - Verse.midi\n",
      "pop-music-collection/Pop_Music_Midi/Timber - Verse.midi\n",
      "pop-music-collection/Pop_Music_Midi/Barbie Girl - Chorus.midi\n",
      "pop-music-collection/Pop_Music_Midi/Feel So Close - Chorus.midi\n",
      "pop-music-collection/Pop_Music_Midi/Blank Space - Verse.midi\n",
      "pop-music-collection/Pop_Music_Midi/Blank Space - Chorus.midi\n",
      "pop-music-collection/Pop_Music_Midi/Fix You - Verse.midi\n",
      "pop-music-collection/Pop_Music_Midi/Let's Go - Verse.midi\n",
      "pop-music-collection/Pop_Music_Midi/Titanium feat Sia - Verse.midi\n",
      "pop-music-collection/Pop_Music_Midi/Timber - Chorus.midi\n",
      "pop-music-collection/Pop_Music_Midi/Fix You - Chorus.midi\n",
      "pop-music-collection/Pop_Music_Midi/Tiny Dancer - Pre Chorus.midi\n",
      "pop-music-collection/Pop_Music_Midi/Sweet Nothing - Verse.midi\n",
      "pop-music-collection/Pop_Music_Midi/The Scientist - Verse.midi\n",
      "pop-music-collection/Pop_Music_Midi/Outside feat Ellie Goulding - Chorus.midi\n",
      "pop-music-collection/Pop_Music_Midi/I Kissed A Girl - Verse.midi\n",
      "pop-music-collection/Pop_Music_Midi/Love Me Harder ft The Weeknd - Verse.midi\n",
      "pop-music-collection/Pop_Music_Midi/Someone Like You - Verse.midi\n",
      "pop-music-collection/Pop_Music_Midi/Hot N Cold - Verse.midi\n",
      "pop-music-collection/Pop_Music_Midi/Roar - Pre Chorus.midi\n",
      "pop-music-collection/Pop_Music_Midi/Barbie Girl - Verse.midi\n",
      "pop-music-collection/Pop_Music_Midi/Someone Like You - Chorus.midi\n",
      "pop-music-collection/Pop_Music_Midi/Chasing Pavements - Chorus.midi\n",
      "pop-music-collection/Pop_Music_Midi/Best Day Of My Life - Chorus.midi\n",
      "pop-music-collection/Pop_Music_Midi/Don't Trust Me - Chorus.midi\n",
      "pop-music-collection/Pop_Music_Midi/Toxic - Chorus.midi\n",
      "pop-music-collection/Pop_Music_Midi/How Deep Is Your Love - Chorus.midi\n",
      "pop-music-collection/Pop_Music_Midi/The Scientist - Intro.midi\n",
      "pop-music-collection/Pop_Music_Midi/Shake It Off - Verse.midi\n",
      "pop-music-collection/Pop_Music_Midi/Locked Out Of Heaven - Chorus.midi\n",
      "pop-music-collection/Pop_Music_Midi/Mr Saxobeat - Verse.midi\n",
      "pop-music-collection/Pop_Music_Midi/California Gurls - Pre Chorus.midi\n",
      "pop-music-collection/Pop_Music_Midi/Baby I'm Yours - Chorus.midi\n",
      "pop-music-collection/Pop_Music_Midi/Treasure - Chorus.midi\n",
      "pop-music-collection/Pop_Music_Midi/California Gurls - Verse.midi\n",
      "pop-music-collection/Pop_Music_Midi/Say My Name - Verse.midi\n",
      "pop-music-collection/Pop_Music_Midi/What A Girl Wants - Chorus.midi\n",
      "pop-music-collection/Pop_Music_Midi/Beautiful Life - Pre Chorus.midi\n",
      "pop-music-collection/Pop_Music_Midi/Viva La Vida - Verse.midi\n",
      "pop-music-collection/Pop_Music_Midi/When I Was Your Man - Verse.midi\n",
      "pop-music-collection/Pop_Music_Midi/I Miss You - Chorus.midi\n",
      "pop-music-collection/Pop_Music_Midi/When I Was Your Man - Pre Chorus.midi\n",
      "pop-music-collection/Pop_Music_Midi/Girl On Fire - Pre Chorus.midi\n",
      "pop-music-collection/Pop_Music_Midi/Toxic - Verse.midi\n",
      "pop-music-collection/Pop_Music_Midi/When I Was Your Man - Chorus.midi\n",
      "pop-music-collection/Pop_Music_Midi/You Belong With Me - Verse.midi\n",
      "pop-music-collection/Pop_Music_Midi/Ex's And Oh's - Chorus.midi\n",
      "pop-music-collection/Pop_Music_Midi/Say My Name - Pre Chorus.midi\n",
      "pop-music-collection/Pop_Music_Midi/Say My Name - Chorus.midi\n",
      "pop-music-collection/Pop_Music_Midi/Dancing Queen - Verse.midi\n",
      "pop-music-collection/Pop_Music_Midi/You Belong With Me - Chorus.midi\n",
      "pop-music-collection/Pop_Music_Midi/Dark Horse - Chorus.midi\n",
      "pop-music-collection/Pop_Music_Midi/Hot N Cold - Chorus.midi\n",
      "pop-music-collection/Pop_Music_Midi/Every Time We Touch - Chorus.midi\n",
      "pop-music-collection/Pop_Music_Midi/White Flag - Chorus.midi\n",
      "pop-music-collection/Pop_Music_Midi/Around The World - Verse.midi\n",
      "pop-music-collection/Pop_Music_Midi/Feel So Close - Verse.midi\n",
      "pop-music-collection/Pop_Music_Midi/Can You Feel the Love Tonight - Verse.midi\n",
      "pop-music-collection/Pop_Music_Midi/Irreplaceable - Chorus.midi\n",
      "pop-music-collection/Pop_Music_Midi/Locked Out Of Heaven - Pre Chorus.midi\n",
      "pop-music-collection/Pop_Music_Midi/Girl On Fire - Verse.midi\n",
      "pop-music-collection/Pop_Music_Midi/Tiny Dancer - Verse.midi\n",
      "pop-music-collection/Pop_Music_Midi/Pompeii - Chorus.midi\n",
      "pop-music-collection/Pop_Music_Midi/Beautiful Life - Chorus.midi\n",
      "pop-music-collection/Pop_Music_Midi/Baby One More Time - Verse.midi\n",
      "pop-music-collection/Pop_Music_Midi/You Drive Me Crazy - Chorus.midi\n",
      "pop-music-collection/Pop_Music_Midi/Beautiful Life - Verse.midi\n",
      "pop-music-collection/Pop_Music_Midi/Love Me Harder ft The Weeknd - Chorus.midi\n",
      "pop-music-collection/Pop_Music_Midi/Hot N Cold - Bridge.midi\n",
      "pop-music-collection/Pop_Music_Midi/All The Small Things - Chorus.midi\n",
      "pop-music-collection/Pop_Music_Midi/I Miss You - Verse.midi\n",
      "pop-music-collection/Pop_Music_Midi/Piano Man - Chorus.midi\n",
      "pop-music-collection/Pop_Music_Midi/Rock That Body - Chorus.midi\n",
      "pop-music-collection/Pop_Music_Midi/Dancing Queen - Chorus.midi\n",
      "pop-music-collection/Pop_Music_Midi/Tiny Dancer - Chorus.midi\n",
      "pop-music-collection/Pop_Music_Midi/Die Young - Verse.midi\n",
      "pop-music-collection/Pop_Music_Midi/I Kissed A Girl - Chorus.midi\n",
      "pop-music-collection/Pop_Music_Midi/Rolling In The Deep - Chorus.midi\n",
      "pop-music-collection/Pop_Music_Midi/Shake It Off - Pre Chorus.midi\n",
      "pop-music-collection/Pop_Music_Midi/Titanium feat Sia - Chorus.midi\n",
      "pop-music-collection/Pop_Music_Midi/I Need Your Love - Chorus.midi\n",
      "pop-music-collection/Pop_Music_Midi/Sk8er Boi - Verse.midi\n",
      "pop-music-collection/Pop_Music_Midi/Can You Feel the Love Tonight - Chorus.midi\n",
      "pop-music-collection/Pop_Music_Midi/Shake It Off - Chorus.midi\n",
      "pop-music-collection/Pop_Music_Midi/Blank Space - Pre Chorus.midi\n",
      "pop-music-collection/Pop_Music_Midi/I Need Your Love - Verse.midi\n",
      "pop-music-collection/Pop_Music_Midi/Put Your Records On - Verse.midi\n",
      "pop-music-collection/Pop_Music_Midi/White Flag - Verse.midi\n",
      "pop-music-collection/Pop_Music_Midi/Clocks - Verse.midi\n",
      "pop-music-collection/Pop_Music_Midi/Roar - Verse.midi\n",
      "pop-music-collection/Pop_Music_Midi/Baby One More Time - Chorus.midi\n",
      "pop-music-collection/Pop_Music_Midi/California Gurls - Chorus.midi\n",
      "pop-music-collection/Pop_Music_Midi/Piano Man - Verse.midi\n",
      "pop-music-collection/Pop_Music_Midi/Everybody - Chorus.midi\n",
      "pop-music-collection/Pop_Music_Midi/Girl On Fire - Bridge.midi\n",
      "pop-music-collection/Pop_Music_Midi/Every Time We Touch - Verse.midi\n",
      "pop-music-collection/Pop_Music_Midi/Die Young - Chorus.midi\n",
      "pop-music-collection/Pop_Music_Midi/Rolling In The Deep - Pre Chorus.midi\n",
      "pop-music-collection/Pop_Music_Midi/I Kissed A Girl - Bridge.midi\n",
      "pop-music-collection/Pop_Music_Midi/Pompeii - Verse.midi\n",
      "pop-music-collection/Pop_Music_Midi/Pompeii - Intro.midi\n",
      "pop-music-collection/Pop_Music_Midi/Roar - Chorus.midi\n",
      "pop-music-collection/Pop_Music_Midi/Dark Horse - Verse.midi\n",
      "pop-music-collection/Pop_Music_Midi/Pompeii - Bridge.midi\n",
      "pop-music-collection/Pop_Music_Midi/Locked Out Of Heaven - Verse.midi\n",
      "pop-music-collection/Pop_Music_Midi/Love Story - Verse.midi\n",
      "pop-music-collection/Pop_Music_Midi/You Belong With Me - Pre Chorus.midi\n",
      "pop-music-collection/Pop_Music_Midi/Sweet Nothing - Chorus.midi\n",
      "pop-music-collection/Pop_Music_Midi/Let's Dance - Chorus.midi\n",
      "pop-music-collection/Pop_Music_Midi/Clocks - Intro.midi\n",
      "pop-music-collection/Pop_Music_Midi/When Love Takes Over ft Kelly Rowland - Chorus.midi\n",
      "pop-music-collection/Pop_Music_Midi/Around The World - Chorus.midi\n",
      "pop-music-collection/Pop_Music_Midi/Thinking Out Loud - Chorus.midi\n",
      "pop-music-collection/Pop_Music_Midi/Call Me Maybe - Chorus.midi\n",
      "pop-music-collection/Pop_Music_Midi/Genie In A Bottle - Chorus.midi\n",
      "pop-music-collection/Pop_Music_Midi/Summer - Chorus.midi\n",
      "pop-music-collection/Pop_Music_Midi/Treasure - Verse.midi\n",
      "21870\n",
      "2744.0826523281203\n"
     ]
    }
   ],
   "source": [
    "notes = []\n",
    "\n",
    "time = 0.0\n",
    "prev_time = 0.0\n",
    "\n",
    "\n",
    "music_path = Path('./pop-music-collection/Pop_Music_Midi/')\n",
    "\n",
    "for fil in music_path.glob('*.midi'):  #Iterating over all midi files\n",
    "    mid = MidiFile(fil)  #Reading midi file\n",
    "    print(fil)\n",
    "    for msg in mid:\n",
    "        time += msg.time\n",
    "        if msg.type == 'note_on':  \n",
    "        # including in training data only if recieved message is of type note_on\n",
    "            note = msg.bytes() \n",
    "        # note message is in the form of [type, note, velocity]\n",
    "        # taking only note and velocity\n",
    "            note = note[1:]\n",
    "            note.append(time-prev_time) \n",
    "            note.append(msg.channel)\n",
    "            prev_time = time\n",
    "            notes.append(note)\n",
    "print(len(notes))\n",
    "print(time)"
   ]
  },
  {
   "cell_type": "markdown",
   "metadata": {},
   "source": [
    "# Data Normalization"
   ]
  },
  {
   "cell_type": "code",
   "execution_count": 4,
   "metadata": {},
   "outputs": [
    {
     "name": "stdout",
     "output_type": "stream",
     "text": [
      "[60.02926383 72.42930956  0.12544995  1.90964792]\n",
      "[ 8.61605267 25.49014909  0.21616718  0.66362352]\n",
      "[[-0.35158372  1.16008307 -0.58033764 -1.37072888]\n",
      " [ 0.46085328  0.3362354  -0.58033764  0.13614961]\n",
      " [ 0.80904057  0.3362354  -0.58033764  0.13614961]\n",
      " [-0.00339643  0.3362354  -0.58033764  0.13614961]\n",
      " [-1.39614558  0.3362354  -0.58033764  1.64302809]]\n"
     ]
    }
   ],
   "source": [
    "notes = np.array(notes)\n",
    "mean = np.mean(notes,axis=0)\n",
    "print(mean)\n",
    "sd = np.std(notes,axis=0)\n",
    "print(sd)\n",
    "notes = (notes[:]-mean)/sd\n",
    "print(notes[:5])"
   ]
  },
  {
   "cell_type": "code",
   "execution_count": 7,
   "metadata": {},
   "outputs": [],
   "source": [
    "xtrain = []\n",
    "ytrain = []\n",
    "n_prev = 5\n",
    "# n_prev notes to predict the (n_prev+1)th note\n",
    "for i in range(len(notes)-n_prev):\n",
    "    x = notes[i:i+n_prev]\n",
    "    y = notes[i+n_prev]\n",
    "    xtrain.append(x)\n",
    "    ytrain.append(y)\n",
    "# print(Y)\n",
    "# save a seed to do prediction later\n",
    "xtrain = np.array(xtrain)\n",
    "ytrain = np.array(ytrain)"
   ]
  },
  {
   "cell_type": "code",
   "execution_count": 8,
   "metadata": {},
   "outputs": [
    {
     "name": "stdout",
     "output_type": "stream",
     "text": [
      "(21865, 5, 4)\n",
      "(21865, 4)\n"
     ]
    }
   ],
   "source": [
    "print(xtrain.shape)\n",
    "print(ytrain.shape)"
   ]
  },
  {
   "cell_type": "code",
   "execution_count": 9,
   "metadata": {},
   "outputs": [],
   "source": [
    "with open('./xtrain.npy','wb') as f1:\n",
    "    pickle.dump(xtrain,f1)\n",
    "f1.close()"
   ]
  },
  {
   "cell_type": "code",
   "execution_count": 10,
   "metadata": {},
   "outputs": [],
   "source": [
    "with open('./ytrain.npy','wb') as f2:\n",
    "    pickle.dump(ytrain,f2)\n",
    "f2.close()"
   ]
  },
  {
   "cell_type": "code",
   "execution_count": null,
   "metadata": {},
   "outputs": [],
   "source": []
  }
 ],
 "metadata": {
  "kernelspec": {
   "display_name": "Python 3",
   "language": "python",
   "name": "python3"
  },
  "language_info": {
   "codemirror_mode": {
    "name": "ipython",
    "version": 3
   },
   "file_extension": ".py",
   "mimetype": "text/x-python",
   "name": "python",
   "nbconvert_exporter": "python",
   "pygments_lexer": "ipython3",
   "version": "3.6.7"
  }
 },
 "nbformat": 4,
 "nbformat_minor": 2
}
